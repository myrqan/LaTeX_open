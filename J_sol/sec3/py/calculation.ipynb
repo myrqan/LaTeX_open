{
 "cells": [
  {
   "cell_type": "code",
   "execution_count": 2,
   "id": "c34dccca-bef3-48fd-90dd-a8b66c9a8291",
   "metadata": {},
   "outputs": [],
   "source": [
    "##--- common ---##\n",
    "import numpy as np\n",
    "import matplotlib.pyplot as plt\n",
    "import scipy.special as sp\n",
    "from scipy.integrate import quad"
   ]
  },
  {
   "cell_type": "code",
   "execution_count": 3,
   "id": "1bd7eb1d-c5e9-49b5-9b2b-647edb67be9d",
   "metadata": {},
   "outputs": [
    {
     "name": "stdout",
     "output_type": "stream",
     "text": [
      "     2\n",
      "1.5 x - 0.5\n"
     ]
    }
   ],
   "source": [
    "print(sp.legendre(2))"
   ]
  }
 ],
 "metadata": {
  "kernelspec": {
   "display_name": "Python(J_sol}",
   "language": "python",
   "name": "myenv"
  },
  "language_info": {
   "codemirror_mode": {
    "name": "ipython",
    "version": 3
   },
   "file_extension": ".py",
   "mimetype": "text/x-python",
   "name": "python",
   "nbconvert_exporter": "python",
   "pygments_lexer": "ipython3",
   "version": "3.13.7"
  }
 },
 "nbformat": 4,
 "nbformat_minor": 5
}
